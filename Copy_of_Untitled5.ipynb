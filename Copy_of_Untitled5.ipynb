{
  "cells": [
    {
      "cell_type": "markdown",
      "metadata": {
        "id": "view-in-github",
        "colab_type": "text"
      },
      "source": [
        "<a href=\"https://colab.research.google.com/github/vishalkhekare07/-Calculate-mean-median-and-mode-of-a-dataset/blob/main/Copy_of_Untitled5.ipynb\" target=\"_parent\"><img src=\"https://colab.research.google.com/assets/colab-badge.svg\" alt=\"Open In Colab\"/></a>"
      ]
    },
    {
      "cell_type": "code",
      "execution_count": null,
      "metadata": {
        "colab": {
          "base_uri": "https://localhost:8080/"
        },
        "id": "9tx1-AYvGxa_",
        "outputId": "1668825f-7491-45c2-a5f4-e9db7c446ebc"
      },
      "outputs": [
        {
          "name": "stderr",
          "output_type": "stream",
          "text": [
            "[nltk_data] Downloading package punkt to /root/nltk_data...\n",
            "[nltk_data]   Unzipping tokenizers/punkt.zip.\n"
          ]
        },
        {
          "name": "stdout",
          "output_type": "stream",
          "text": [
            "NLTK is installed and ready to use!\n"
          ]
        }
      ],
      "source": [
        "import nltk\n",
        "nltk.download('punkt')  # Downloads the 'punkt' tokenizer for sentence splitting\n",
        "print(\"NLTK is installed and ready to use!\")\n"
      ]
    },
    {
      "cell_type": "code",
      "execution_count": null,
      "metadata": {
        "colab": {
          "background_save": true,
          "base_uri": "https://localhost:8080/"
        },
        "id": "TR_LQjusG3pI",
        "outputId": "07ba490c-1c68-47b8-d931-a9e3407bec97"
      },
      "outputs": [
        {
          "name": "stdout",
          "output_type": "stream",
          "text": [
            "Chatbot: Type 'quit' to exit.\n",
            "I am a chatbot created to assist you with Python programming.\n",
            "Hello! How can I help you today?\n",
            "I'm just a program, but I'm doing well! How about you?\n",
            "None\n",
            "I can assist with Python-related queries.\n",
            "None\n",
            "A basic Python program can be written like this: 'print('Hello, World!')'\n"
          ]
        }
      ],
      "source": [
        "from nltk.chat.util import Chat, reflections\n",
        "\n",
        "# Pairs of patterns and responses for Python-related questions\n",
        "pairs = [\n",
        "    # Greeting and basic questions\n",
        "    [r\"hi|hello|hey\", [\"Hello! How can I help you today?\"]],\n",
        "    [r\"what is your name?\", [\"I am a chatbot created to assist you with Python programming.\"]],\n",
        "    [r\"how are you?\", [\"I'm just a program, but I'm doing well! How about you?\"]],\n",
        "    [r\"(.*) help (.*)\", [\"I can assist with Python-related queries.\"]],\n",
        "    [r\"quit\", [\"Bye! Have a great day!\"]],\n",
        "\n",
        "    # Python Programming Questions\n",
        "    [r\"how do I write a basic python program?\", [\"A basic Python program can be written like this: 'print('Hello, World!')'\"]],\n",
        "    [r\"what are the data types in python?\", [\"Python supports several data types like int, float, str, list, tuple, and dictionary.\"]],\n",
        "    [r\"how do I append to a list in python?\", [\"You can append to a list in Python using the 'append()' method. Example: 'my_list.append(5)'\"]],\n",
        "    [r\"how do I concatenate strings in python?\", [\"You can concatenate strings in Python using the '+' operator. Example: 'str1 + str2'\"]],\n",
        "    [r\"how do I use a for loop in python?\", [\"A basic for loop in Python looks like this: 'for i in range(5): print(i)'\"]],\n",
        "    [r\"how do I use a while loop in python?\", [\"A while loop in Python looks like this: 'while condition: statement'\"]],\n",
        "    [r\"how do I define a function in python?\", [\"You can define a function in Python using the 'def' keyword. Example: 'def my_function(): return 'Hello''\"]],\n",
        "    [r\"how do I handle exceptions in python?\", [\"You can handle exceptions using try-except blocks. Example: 'try: code except Exception as e: print(e)'\"]],\n",
        "    [r\"what is list comprehension in python?\", [\"List comprehension is a concise way to create lists. Example: '[x*2 for x in range(5)]'\"]],\n",
        "    [r\"what is a lambda function in python?\", [\"A lambda function is an anonymous function defined with 'lambda'. Example: 'lambda x: x*2'\"]],\n",
        "\n",
        "    # Python Advanced Concepts\n",
        "    [r\"what are decorators in python?\", [\"Decorators are functions that modify the behavior of other functions or methods. Example: '@my_decorator'\"]],\n",
        "    [r\"what is a generator in python?\", [\"A generator is a function that yields values one at a time using the 'yield' keyword.\"]],\n",
        "    [r\"what is the difference between deep copy and shallow copy?\", [\"A shallow copy copies the reference to the object, while a deep copy copies the actual object.\"]],\n",
        "    [r\"what is the purpose of self in python?\", [\"In Python, 'self' refers to the instance of the class and allows accessing its attributes and methods.\"]],\n",
        "    [r\"how do I read a file in python?\", [\"You can read a file using the 'open' function and the 'read' method. Example: 'with open('file.txt', 'r') as file: data = file.read()'\"]],\n",
        "    [r\"how do I write to a file in python?\", [\"You can write to a file using the 'open' function and the 'write' method. Example: 'with open('file.txt', 'w') as file: file.write('Hello!')'\"]],\n",
        "    [r\"what is an iterator in python?\", [\"An iterator is an object that implements the 'iter()' and 'next()' methods.\"]],\n",
        "    [r\"what is a class in python?\", [\"A class is a blueprint for creating objects, defining attributes and methods.\"]],\n",
        "    [r\"what is inheritance in python?\", [\"Inheritance allows a class to inherit attributes and methods from another class.\"]],\n",
        "    [r\"what is polymorphism in python?\", [\"Polymorphism allows objects of different classes to be treated as objects of a common base class.\"]],\n",
        "    [r\"what is encapsulation in python?\", [\"Encapsulation is the concept of bundling data and methods that operate on that data within a class.\"]],\n",
        "    [r\"what is the difference between 'is' and '==' in python?\", [\"'==' checks for value equality, while 'is' checks for object identity.\"]],\n",
        "    [r\"what are Python modules?\", [\"Python modules are files containing Python code that can be imported and reused in other programs.\"]],\n",
        "    [r\"what is the difference between list and tuple in python?\", [\"A list is mutable, meaning it can be changed, while a tuple is immutable, meaning it cannot be modified after creation.\"]],\n",
        "    [r\"how do I sort a list in python?\", [\"You can sort a list using the 'sort()' method or the 'sorted()' function. Example: 'my_list.sort()'\"]],\n",
        "    [r\"what is a dictionary in python?\", [\"A dictionary is an unordered collection of key-value pairs. Example: 'my_dict = {'key': 'value'}'\"]],\n",
        "    [r\"how do I merge two lists in python?\", [\"You can merge two lists using the '+' operator or 'extend()' method. Example: 'list1 + list2'\"]],\n",
        "]\n",
        "\n",
        "# Create and start the chatbot\n",
        "chat = Chat(pairs, reflections)\n",
        "print(\"Chatbot: Type 'quit' to exit.\")\n",
        "chat.converse()\n"
      ]
    },
    {
      "cell_type": "code",
      "execution_count": null,
      "metadata": {
        "id": "gIFcQPg7HN5h"
      },
      "outputs": [],
      "source": []
    }
  ],
  "metadata": {
    "colab": {
      "provenance": [],
      "authorship_tag": "ABX9TyM64YMRsyRiHCpCWjnoooSQ",
      "include_colab_link": true
    },
    "kernelspec": {
      "display_name": "Python 3",
      "name": "python3"
    },
    "language_info": {
      "name": "python"
    }
  },
  "nbformat": 4,
  "nbformat_minor": 0
}